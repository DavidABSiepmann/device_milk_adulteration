{
  "cells": [
    {
      "cell_type": "markdown",
      "metadata": {
        "id": "view-in-github",
        "colab_type": "text"
      },
      "source": [
        "<a href=\"https://colab.research.google.com/github/DavidABSiepmann/device_milk_adulteration/blob/master/Simula%C3%A7%C3%B5es_Distribui%C3%A7%C3%A3o_de_particulas.ipynb\" target=\"_parent\"><img src=\"https://colab.research.google.com/assets/colab-badge.svg\" alt=\"Open In Colab\"/></a>"
      ]
    },
    {
      "cell_type": "code",
      "execution_count": null,
      "metadata": {
        "id": "z9t6GZr8Qg0i"
      },
      "outputs": [],
      "source": [
        "!pip install -q miepython==2.3.0\n",
        "\n",
        "import matplotlib.pyplot as plt\n",
        "import numpy as np\n",
        "\n",
        "from sklearn import preprocessing\n",
        "from sklearn.tree import DecisionTreeRegressor\n",
        "from sklearn.linear_model import LinearRegression\n",
        "from sklearn.linear_model import Ridge\n",
        "from sklearn.linear_model import Lasso\n",
        "from sklearn.linear_model import BayesianRidge\n",
        "from sklearn.neighbors import KNeighborsRegressor\n",
        "from sklearn.svm import LinearSVR\n",
        "\n",
        "from sklearn.model_selection import cross_val_score\n",
        "from sklearn.model_selection import RepeatedKFold\n",
        "from sklearn.multioutput import RegressorChain\n",
        "from sklearn.multioutput import MultiOutputRegressor\n",
        "from sklearn.ensemble import GradientBoostingRegressor\n",
        "from sklearn.neural_network import MLPRegressor\n",
        "from sklearn.model_selection import GridSearchCV\n",
        "\n",
        "from sklearn.metrics import mean_squared_error\n",
        "\n",
        "path_drive = '/content/'"
      ]
    },
    {
      "cell_type": "markdown",
      "metadata": {
        "id": "9_12q8r1R3fp"
      },
      "source": [
        "## Mie calculos"
      ]
    },
    {
      "cell_type": "code",
      "execution_count": null,
      "metadata": {
        "id": "iD_cLF88Rzze"
      },
      "outputs": [],
      "source": [
        "import numpy as np\n",
        "import miepython\n",
        "import tqdm\n",
        "\n",
        "def distribuition(\n",
        "    meanRadius,\n",
        "    stdDev,\n",
        "    nRadius = 31,\n",
        "    sphNumDensity = 1e8,\n",
        "    volFraction = 0.1,\n",
        "    VolOrConc = False):\n",
        "\n",
        "    radArray = []\n",
        "    funcArray = []\n",
        "    numDensityArray = []\n",
        "    totalSphereVolume = 0.0\n",
        "    totalFuncSum = 0.0\n",
        "    meanRadius *= 0.5\n",
        "    maxRadius = 0\n",
        "\n",
        "    if (nRadius <52):\n",
        "        cutoffPercent = -0.0005*nRadius + 0.031 #from 2:52 change from  3% to 0.5%\n",
        "    else:\n",
        "        cutoffPercent = -0.00009*nRadius + 0.00968 #from 52:102 change from  0.5% to 0.05%\n",
        "    sigma = stdDev\n",
        "\n",
        "    mu = 0\n",
        "    maxY = 1.0/(sigma * np.sqrt (2.0 * np.pi))\n",
        "    minY = maxY*cutoffPercent\n",
        "    dR = sigma/1e3\n",
        "    \n",
        "    ##forward search to find right end\n",
        "    curR = mu + dR\n",
        "    curY = (np.exp(-((curR-mu)*(curR-mu)/(2.0 * sigma * sigma))))/(sigma * np.sqrt (2.0 * np.pi))\n",
        "    i = 2\n",
        "    while (curY>minY):\n",
        "        curR = mu + i*dR\n",
        "        curY = (np.exp(-((curR-mu)*(curR-mu)/(2.0 * sigma * sigma))))/(sigma * np.sqrt (2.0 * np.pi))\n",
        "        i += 1\n",
        "\n",
        "    maxRadius = meanRadius + curR\n",
        "    #Left end setting\n",
        "    if (curR < meanRadius):\n",
        "        minRadius = meanRadius - curR\n",
        "    else:\n",
        "        minRadius = 1e-8\n",
        "\n",
        "    for i in range(0, nRadius):\n",
        "        funcArray.append(1.0)\n",
        "    stepR = (maxRadius - minRadius)/(nRadius -1)\n",
        "\n",
        "    for i in range(0, nRadius):\n",
        "        radArray.append(minRadius + i*stepR)\n",
        "        temp = radArray[i]-meanRadius\n",
        "        funcArray[i]  = (np.exp(-(temp*temp/(2.0 * stdDev * stdDev))))/(stdDev * np.sqrt (2.0 * np.pi))\n",
        "        totalSphereVolume += funcArray[i] * 4.0 * np.pi * radArray[i] * radArray[i] * radArray[i] / 3.0\n",
        "        totalFuncSum += funcArray[i]\n",
        "\n",
        "    if (VolOrConc):\n",
        "        factor = 1e9 * volFraction /totalSphereVolume;   #1mm3 x volume Fraction / Total volume of spheres\n",
        "    else:\n",
        "        factor = sphNumDensity/totalFuncSum\n",
        "\n",
        "    for i in range(0, nRadius):\n",
        "        numDensityArray.append(funcArray[i]*factor)\n",
        "\n",
        "    radArray = np.array(radArray)\n",
        "    numDensityArray = np.array(numDensityArray)\n",
        "\n",
        "    return radArray, numDensityArray\n",
        "\n",
        "def calc_scat(radArray, numDensityArray, theta, lambda_, crefraction, norm='4pi'):\n",
        "\n",
        "    nRadius = len(numDensityArray)\n",
        "    sumNumDen = sum(numDensityArray)\n",
        "\n",
        "    m = crefraction\n",
        "    xd = (2*np.pi*radArray)/lambda_\n",
        "    mu = np.cos(theta/180*np.pi)\n",
        "\n",
        "    buffer = np.zeros_like(miepython.i_unpolarized(m,xd[0],mu,norm))\n",
        "\n",
        "    for i in range(0, nRadius):\n",
        "        buffer += (miepython.i_unpolarized(m,xd[i],mu,norm)*numDensityArray[i])\n",
        "\n",
        "    buffer /= sumNumDen\n",
        "\n",
        "    return buffer\n",
        "\n",
        "def gera_dataset(meanRadiusN, stdRadiusN, theta, lambda_, m, name, noise = 0):\n",
        "    X = []\n",
        "    y = []\n",
        "    pbar = tqdm.tqdm(total=len(stdRadiusN)*len(meanRadiusN)+1)\n",
        "    for stdRadius in stdRadiusN:\n",
        "        for meanRadius in meanRadiusN:\n",
        "            pbar.update(1)\n",
        "            dist, distDensity = distribuition(meanRadius, stdRadius)\n",
        "            \n",
        "            distDensity += np.random.random(len(distDensity))*max(distDensity)*noise\n",
        "\n",
        "            scat = calc_scat(dist, distDensity, theta, lambda_, m)\n",
        "            scat += np.random.random(len(scat))*max(scat)*noise\n",
        "            X.append(scat)\n",
        "            d50 = meanRadius\n",
        "            d25 = (meanRadius+2*stdRadius)*0.5\n",
        "            y.append([d50, d25, stdRadius])\n",
        "\n",
        "    X = np.array(X)\n",
        "    y = np.array(y)\n",
        "\n",
        "    dataset = np.concatenate((X, y), axis=1)\n",
        "    np.savetxt(name, dataset, fmt=\"%10.8f\" )\n",
        "    pbar.update(1)\n",
        "    pbar.close()\n",
        "    return [X, y]\n",
        "\n",
        "def loadDataset(name, MeanSigma = False, All = False):\n",
        "\n",
        "    data = np.loadtxt(name)\n",
        "    n = 3\n",
        "    Xl = data[:,:-n]\n",
        "    yl = data[:, len(data[0,:])-n::]\n",
        "\n",
        "    if( All ):\n",
        "        return [Xl,yl]\n",
        "\n",
        "    if( MeanSigma ):\n",
        "        yl = np.delete(yl, 1, 1)\n",
        "        return [Xl,yl]\n",
        "    else:\n",
        "        return [Xl,yl[:,:-1]]"
      ]
    },
    {
      "cell_type": "markdown",
      "metadata": {
        "id": "dGNbr1oeR9Z8"
      },
      "source": [
        "## Geração de dataset"
      ]
    },
    {
      "cell_type": "code",
      "execution_count": null,
      "metadata": {
        "id": "mMv3OE1RQwey"
      },
      "outputs": [],
      "source": [
        "meanRadiusN = np.linspace(0.7,20,100)\n",
        "stdRadiusN = np.linspace(0.05,1,100)\n",
        "theta = np.linspace(-90,90,101)\n",
        "lambda_ = 0.660\n",
        "n_milk = 1.46\n",
        "n_water = 1.33\n",
        "coefRefracao = n_milk/n_water\n",
        "\n",
        "meanRadiusN_test = np.random.random(20)*20+0.7\n",
        "stdRadiusN_test =  np.random.random(10)*0.8+0.05\n",
        "\n",
        "_ = gera_dataset(meanRadiusN, stdRadiusN, theta, lambda_, coefRefracao, f'{path_drive}/dataset-train-saidas.csv')\n",
        "_ = gera_dataset(meanRadiusN_test, stdRadiusN_test, theta, lambda_, coefRefracao, f'{path_drive}/dataset-teste-saidas.csv')"
      ]
    },
    {
      "cell_type": "markdown",
      "metadata": {
        "id": "M5KULziwTJlH"
      },
      "source": [
        "## Carrega os datasets"
      ]
    },
    {
      "cell_type": "code",
      "execution_count": null,
      "metadata": {
        "id": "HaGkr5BpTI3L"
      },
      "outputs": [],
      "source": [
        "X, y = loadDataset(f'{path_drive}/dataset-train-saidas.csv')\n",
        "X_t, y_t = loadDataset(f'{path_drive}/dataset-teste-saidas.csv')\n",
        "\n",
        "print(X.shape, y.shape)"
      ]
    },
    {
      "cell_type": "markdown",
      "metadata": {
        "id": "5Ob8DD0ISsIr"
      },
      "source": [
        "# Regresores"
      ]
    },
    {
      "cell_type": "markdown",
      "source": [
        "## Teste de diferentes alvos"
      ],
      "metadata": {
        "id": "LzHBscy_oSV5"
      }
    },
    {
      "cell_type": "code",
      "source": [
        "import pandas as pd\n",
        "\n",
        "def test_models(X_train, y_train, X_test, y_test, name):\n",
        "    models = [\n",
        "        DecisionTreeRegressor(),\n",
        "        LinearRegression(),\n",
        "        KNeighborsRegressor(),\n",
        "        Ridge(),\n",
        "        Lasso(),\n",
        "        ]\n",
        "\n",
        "    lModels = []\n",
        "    lR2 = []\n",
        "    lMAE = []\n",
        "    lRMSE = []\n",
        "\n",
        "    for model in models:\n",
        "        cv = RepeatedKFold(n_splits=10, n_repeats=3, random_state=1)\n",
        "\n",
        "        lModels.append(model.__str__())\n",
        "        lR2.append(np.mean(cross_val_score(model, X_train, y_train, scoring='r2', cv=cv, n_jobs=-1)))\n",
        "        lMAE.append(abs(np.mean(cross_val_score(model, X_train, y_train, scoring='neg_mean_absolute_error', cv=cv, n_jobs=-1))))\n",
        "        lRMSE.append(abs(np.mean(cross_val_score(model, X_train, y_train, scoring='neg_root_mean_squared_error', cv=cv, n_jobs=-1))))\n",
        "\n",
        "    df = pd.DataFrame(\n",
        "        {\n",
        "            \"Modelo\": lModels, \n",
        "            \"R2\": lR2,\n",
        "            \"MAE\": lMAE,\n",
        "            \"RMSE\": lRMSE,\n",
        "        }\n",
        "    )\n",
        "\n",
        "    df.to_csv(name, sep=';', index=False, float_format='%.4f')\n",
        "\n",
        "    print(df)\n",
        "    return df"
      ],
      "metadata": {
        "id": "KRkmr-Da6m8u"
      },
      "execution_count": null,
      "outputs": []
    },
    {
      "cell_type": "code",
      "execution_count": null,
      "metadata": {
        "id": "zntoQsiZSuhb"
      },
      "outputs": [],
      "source": [
        "print(\">>>>>>>>>>>>>>>>>>>>>>>>>>>>>>>>>>>>>>>>>>>>>>>>>>\")\n",
        "print(\"\\tPredict de media e desvio: \")\n",
        "X, y = loadDataset('dataset2.csv', MeanSigma=True)\n",
        "X_t, y_t = loadDataset('teste2.csv', MeanSigma=True)\n",
        "test_models(X, y, X_t, y_t, \"pred_mean_std.csv\")\n",
        "\n",
        "print(\">>>>>>>>>>>>>>>>>>>>>>>>>>>>>>>>>>>>>>>>>>>>>>>>>>\")\n",
        "print(\"\\tPredict de d50 e d25: \")\n",
        "X, y = loadDataset('dataset2.csv', MeanSigma=False)\n",
        "X_t, y_t = loadDataset('teste2.csv', MeanSigma=False)\n",
        "test_models(X, y, X_t, y_t, \"pred_d50_d25.csv\")\n",
        "\n",
        "print(\">>>>>>>>>>>>>>>>>>>>>>>>>>>>>>>>>>>>>>>>>>>>>>>>>>\")\n",
        "print(\"\\tPredict de d50, d25 e sigma: \")\n",
        "X, y = loadDataset('dataset2.csv', All=True)\n",
        "X_t, y_t = loadDataset('teste2.csv', All=True)\n",
        "test_models(X, y, X_t, y_t, \"pred_d50_d25_sigma.csv\")\n"
      ]
    },
    {
      "cell_type": "markdown",
      "source": [
        "## Teste quantidade de angulos"
      ],
      "metadata": {
        "id": "9prmSrP5oaBT"
      }
    },
    {
      "cell_type": "code",
      "source": [
        "n_angulos = [3, 7, 11, 25, 101, 1000]\n",
        "\n",
        "\n",
        "meanRadiusN = np.linspace(0.7,20,100)\n",
        "stdRadiusN = np.linspace(0.05,1,100)\n",
        "lambda_ = 0.660\n",
        "n_milk = 1.46\n",
        "n_water = 1.33\n",
        "coefRefracao = n_milk/n_water\n",
        "\n",
        "meanRadiusN_test = np.random.random(20)*20+1\n",
        "stdRadiusN_test =  np.random.random(10)*0.8+0.05"
      ],
      "metadata": {
        "id": "YClJYGgudfAp"
      },
      "execution_count": null,
      "outputs": []
    },
    {
      "cell_type": "code",
      "source": [
        "print(\"Gerando datasets\")\n",
        "for nAng in n_angulos:\n",
        "    theta = np.linspace(-90,90,nAng)\n",
        "    print(\"Angulos: \", theta)\n",
        "    _ = gera_dataset(meanRadiusN, stdRadiusN, theta, lambda_, coefRefracao, f'{path_drive}/dataset_train_ang_{nAng}.csv')\n",
        "    _ = gera_dataset(meanRadiusN_test, stdRadiusN_test, theta, lambda_, coefRefracao, f'{path_drive}/dataset_test_ang_{nAng}.csv')"
      ],
      "metadata": {
        "id": "rMOCqHnuoKfL"
      },
      "execution_count": null,
      "outputs": []
    },
    {
      "cell_type": "code",
      "source": [
        "df = pd.DataFrame()\n",
        "\n",
        "print(\"\\tPredict de d50 e d25: \")\n",
        "for nAng in n_angulos:\n",
        "    print(\">>>>>>>>>>>>>>>>>>>>>>>>>>>>>>>>>>>>>>>>>>>>>>>>>>\")\n",
        "    print(\"Quantidade angulos: \", nAng)\n",
        "    #print(\"Angulos: \", np.linspace(-180,180,nAng))\n",
        "    X, y = loadDataset(f'{path_drive}/dataset_train_ang_{nAng}.csv', MeanSigma=False)\n",
        "    X_t, y_t = loadDataset(f'{path_drive}/dataset_test_ang_{nAng}.csv', MeanSigma=False)\n",
        "    df2 = test_models(X, y, X_t, y_t, f\"qdte_ang_out_{nAng}.csv\")\n",
        "    df[f'R2-{nAng}'] = df2['R2']\n",
        "    df[f'MAE-{nAng}'] = df2['MAE']\n",
        "    df[f'RMSE-{nAng}'] = df2['RMSE']\n",
        "\n",
        "df.to_csv(f'{path_drive}/resultado_tabela_angulos.csv', sep=';', index=False, float_format='%.4f')"
      ],
      "metadata": {
        "id": "RY4P32QtqEjN"
      },
      "execution_count": null,
      "outputs": []
    },
    {
      "cell_type": "markdown",
      "source": [
        "### Teste Ruido"
      ],
      "metadata": {
        "id": "KuGdley-zN8t"
      }
    },
    {
      "cell_type": "code",
      "source": [
        "n_noise = [0.005, 0.01, 0.05, 0.1, 0.2, 0.3, 0.5]\n",
        "\n",
        "meanRadiusN = np.linspace(0.7,20,60)\n",
        "stdRadiusN = np.linspace(0.05,1,15)\n",
        "lambda_ = 0.660\n",
        "n_milk = 1.46\n",
        "n_water = 1.33\n",
        "coefRefracao = n_milk/n_water\n",
        "theta = np.linspace(-180,180,101)\n",
        "\n",
        "meanRadiusN_test = np.random.random(20)*20+1\n",
        "stdRadiusN_test =  np.random.random(10)*0.8+0.05\n"
      ],
      "metadata": {
        "id": "NEagcoClsPsF"
      },
      "execution_count": null,
      "outputs": []
    },
    {
      "cell_type": "code",
      "source": [
        "print(\"Gerando datasets\")\n",
        "for nNoise in n_noise:\n",
        "    _ = gera_dataset(meanRadiusN, stdRadiusN, theta, lambda_, coefRefracao, f'{path_drive}/dataset_train_noise_{nNoise}_101ang.csv', noise=nNoise)\n",
        "    _ = gera_dataset(meanRadiusN_test, stdRadiusN_test, theta, lambda_, coefRefracao, f'{path_drive}/dataset_test_noise_{nNoise}_101ang.csv', noise=nNoise)"
      ],
      "metadata": {
        "id": "1GArveRT1DjN"
      },
      "execution_count": null,
      "outputs": []
    },
    {
      "cell_type": "code",
      "source": [
        "df = pd.DataFrame()\n",
        "print(\"\\tPredict de d50 e d25: \")\n",
        "for nNoise in n_noise:\n",
        "    print(\">>>>>>>>>>>>>>>>>>>>>>>>>>>>>>>>>>>>>>>>>>>>>>>>>>\")\n",
        "    print(\"Noise: \", nNoise)\n",
        "    X, y = loadDataset(f'{path_drive}/dataset_train_noise_{nNoise}_101ang.csv', MeanSigma=False)\n",
        "    X_t, y_t = loadDataset(f'{path_drive}/dataset_test_noise_{nNoise}_101ang.csv', MeanSigma=False)\n",
        "    df2 = test_models(X, y, X_t, y_t, \"temp.csv\")\n",
        "    df[f'R2-{nNoise}'] = df2['R2']\n",
        "    df[f'MAE-{nNoise}'] = df2['MAE']\n",
        "    df[f'RMSE-{nNoise}'] = df2['RMSE']\n",
        "df\n",
        "df.to_csv(f'{path_drive}/resultado_tabela_noise_101ang.csv', sep=';', index=False, float_format='%.4f')"
      ],
      "metadata": {
        "id": "-H5Srbn11gek"
      },
      "execution_count": null,
      "outputs": []
    },
    {
      "cell_type": "markdown",
      "source": [
        "# Visualização do espalhamento"
      ],
      "metadata": {
        "id": "UzJdSuiQqqgL"
      }
    },
    {
      "cell_type": "code",
      "source": [
        "n_angulos = [3, 7, 11, 25, 101, 1000]\n",
        "xlb = ['(a)', '(b)', '(c)', '(d)', '(e)', '(f)']\n",
        "\n",
        "plt.rcParams.update({'font.size': 12})\n",
        "\n",
        "meanRadius = 7.4\n",
        "stdRadius = 0.5\n",
        "lambda_ = 0.660\n",
        "n_milk = 1.46\n",
        "n_water = 1.33\n",
        "coefRefracao = n_milk/n_water\n",
        "\n",
        "dist, distDensity = distribuition(meanRadius, stdRadius)\n",
        "\n",
        "plt.figure(figsize=(5, 5))\n",
        "plt.plot(dist*2, distDensity)\n",
        "plt.xlabel('Tamanho da partícula [mícrons]', fontsize=12)\n",
        "plt.ylabel('Concentração [Esferas em 1 mm³]', fontsize=12)\n",
        "plt.savefig(\"distribuicao_qtde_ang.png\", dpi=300)\n",
        "\n",
        "fig, axes = plt.subplots(len(n_angulos)//2, 2, sharex=True, sharey=True, figsize=(7, 6))\n",
        "\n",
        "i = 0\n",
        "for a in range(len(n_angulos)//2):\n",
        "    for b in [0, 1]:\n",
        "        theta = np.linspace(-90,90, n_angulos[i])\n",
        "        scat = calc_scat(dist, distDensity, theta, lambda_, coefRefracao)\n",
        "        axes[a,b].plot(theta, scat)\n",
        "        axes[a,b].set_title(xlb[i], fontsize=12)\n",
        "        i += 1\n",
        "\n",
        "fig.add_subplot(111, frameon=False)\n",
        "# hide tick and tick label of the big axis\n",
        "plt.tick_params(labelcolor='none', which='both', top=False, bottom=False, left=False, right=False)\n",
        "plt.xlabel(\"Ângulo [graus]\", fontsize=12)\n",
        "plt.ylabel(\"Luz espalhada não polarizada [1/sr]\", fontsize=12)\n",
        "\n",
        "plt.savefig(f\"luz_espalhada_ang.png\", dpi=600)"
      ],
      "metadata": {
        "id": "2K4UKLGUqg2y"
      },
      "execution_count": null,
      "outputs": []
    },
    {
      "cell_type": "code",
      "source": [
        "n_noise = [0.0050, 0.010, 0.050, 0.10, 0.20, 0.50]\n",
        "xlb = ['(a)', '(b)', '(c)', '(d)', '(e)', '(f)']\n",
        "\n",
        "plt.rcParams.update({'font.size': 12})\n",
        "\n",
        "meanRadius = 7.4\n",
        "stdRadius = 0.5\n",
        "lambda_ = 0.660\n",
        "n_milk = 1.46\n",
        "n_water = 1.33\n",
        "coefRefracao = n_milk/n_water\n",
        "theta = np.linspace(-90,90, 101)\n",
        "\n",
        "dist, distDensity = distribuition(meanRadius, stdRadius)\n",
        "fig, axes = plt.subplots(len(n_noise)//2, 2, sharex=True, sharey=True, figsize=(7, 6))\n",
        "\n",
        "i = 0\n",
        "for a in range(len(n_noise)//2):\n",
        "    for b in [0, 1]:\n",
        "        scat = calc_scat(dist, distDensity, theta, lambda_, coefRefracao)\n",
        "        #axes[a,b].plot(theta, scat, 'k-')\n",
        "        scat += np.random.random(len(scat))*max(scat)*n_noise[i]\n",
        "        axes[a,b].plot(theta, scat, 'b.-', markersize=3)\n",
        "        axes[a,b].set_title(xlb[i], fontsize=12)\n",
        "        i += 1\n",
        "\n",
        "fig.add_subplot(111, frameon=False)\n",
        "# hide tick and tick label of the big axis\n",
        "plt.tick_params(labelcolor='none', which='both', top=False, bottom=False, left=False, right=False)\n",
        "plt.xlabel(\"Ângulo [graus]\", fontsize=12)\n",
        "plt.ylabel(\"Luz espalhada não polarizada [1/sr]\", fontsize=12)\n",
        "\n",
        "plt.savefig(f\"luz_espalhada_ruido.png\", dpi=600)"
      ],
      "metadata": {
        "id": "kzE6RnbZSo9R"
      },
      "execution_count": null,
      "outputs": []
    }
  ],
  "metadata": {
    "colab": {
      "provenance": [],
      "mount_file_id": "1Q1brnc6j_9MHdUfu86PSSx3IchML8QF1",
      "authorship_tag": "ABX9TyPwnmL8xvH5bJjw51kWPztJ",
      "include_colab_link": true
    },
    "kernelspec": {
      "display_name": "Python 3",
      "name": "python3"
    },
    "language_info": {
      "name": "python"
    }
  },
  "nbformat": 4,
  "nbformat_minor": 0
}